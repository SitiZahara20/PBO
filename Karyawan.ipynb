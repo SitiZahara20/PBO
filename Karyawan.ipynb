{
  "nbformat": 4,
  "nbformat_minor": 0,
  "metadata": {
    "colab": {
      "provenance": [],
      "authorship_tag": "ABX9TyPra4jQ4nnmgrUpGYdggUan",
      "include_colab_link": true
    },
    "kernelspec": {
      "name": "python3",
      "display_name": "Python 3"
    },
    "language_info": {
      "name": "python"
    }
  },
  "cells": [
    {
      "cell_type": "markdown",
      "metadata": {
        "id": "view-in-github",
        "colab_type": "text"
      },
      "source": [
        "<a href=\"https://colab.research.google.com/github/SitiZahara20/PBO/blob/main/Karyawan.ipynb\" target=\"_parent\"><img src=\"https://colab.research.google.com/assets/colab-badge.svg\" alt=\"Open In Colab\"/></a>"
      ]
    },
    {
      "cell_type": "code",
      "execution_count": 3,
      "metadata": {
        "colab": {
          "base_uri": "https://localhost:8080/"
        },
        "id": "y656CcPWig-o",
        "outputId": "a0825cbe-9d6b-4694-ac78-fc0334c03fb3"
      },
      "outputs": [
        {
          "output_type": "stream",
          "name": "stdout",
          "text": [
            "rafayel adalah seorang CEO\n"
          ]
        }
      ],
      "source": [
        "class Karyawan:\n",
        "    def __init__(self, nama, jabatan):\n",
        "        self.nama = nama\n",
        "        self.jabatan = jabatan\n",
        "\n",
        "    def info(self):\n",
        "        print(f\"{self.nama} adalah seorang {self.jabatan}\")\n",
        "\n",
        "karyawan = Karyawan(\"rafayel\", \"CEO\")\n",
        "karyawan.info()"
      ]
    }
  ]
}