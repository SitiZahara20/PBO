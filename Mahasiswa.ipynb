{
  "nbformat": 4,
  "nbformat_minor": 0,
  "metadata": {
    "colab": {
      "provenance": [],
      "authorship_tag": "ABX9TyNPIE8Z6tdEg9bCDE0xOIDj",
      "include_colab_link": true
    },
    "kernelspec": {
      "name": "python3",
      "display_name": "Python 3"
    },
    "language_info": {
      "name": "python"
    }
  },
  "cells": [
    {
      "cell_type": "markdown",
      "metadata": {
        "id": "view-in-github",
        "colab_type": "text"
      },
      "source": [
        "<a href=\"https://colab.research.google.com/github/SitiZahara20/PBO/blob/main/Mahasiswa.ipynb\" target=\"_parent\"><img src=\"https://colab.research.google.com/assets/colab-badge.svg\" alt=\"Open In Colab\"/></a>"
      ]
    },
    {
      "cell_type": "code",
      "execution_count": 10,
      "metadata": {
        "colab": {
          "base_uri": "https://localhost:8080/"
        },
        "id": "H0YoLscWYO87",
        "outputId": "22a140fc-0285-449b-9461-847aab280a28"
      },
      "outputs": [
        {
          "output_type": "stream",
          "name": "stdout",
          "text": [
            "KRS Siti Zahara : PBO, Statistik, Sistem Operasi\n"
          ]
        }
      ],
      "source": [
        "class Mahasiswa:\n",
        "    def __init__(self, nama):\n",
        "        self.nama = nama\n",
        "\n",
        "    def cetakkrs(self):\n",
        "        print(f\"KRS {self.nama} : PBO, Statistik, Sistem Operasi\")\n",
        "\n",
        "def main():\n",
        "    mhs = Mahasiswa(\"Siti Zahara\")\n",
        "    mhs.cetakkrs()\n",
        "\n",
        "if __name__ == \"__main__\":\n",
        "    main()"
      ]
    }
  ]
}