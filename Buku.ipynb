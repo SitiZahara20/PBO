{
  "nbformat": 4,
  "nbformat_minor": 0,
  "metadata": {
    "colab": {
      "provenance": [],
      "authorship_tag": "ABX9TyOhdQEbL1baRR4r6EMW11Bl",
      "include_colab_link": true
    },
    "kernelspec": {
      "name": "python3",
      "display_name": "Python 3"
    },
    "language_info": {
      "name": "python"
    }
  },
  "cells": [
    {
      "cell_type": "markdown",
      "metadata": {
        "id": "view-in-github",
        "colab_type": "text"
      },
      "source": [
        "<a href=\"https://colab.research.google.com/github/SitiZahara20/PBO/blob/main/Buku.ipynb\" target=\"_parent\"><img src=\"https://colab.research.google.com/assets/colab-badge.svg\" alt=\"Open In Colab\"/></a>"
      ]
    },
    {
      "cell_type": "code",
      "execution_count": 2,
      "metadata": {
        "colab": {
          "base_uri": "https://localhost:8080/"
        },
        "id": "O3vhWJWyMaMI",
        "outputId": "03df9da3-37f7-4821-d7ee-07361f1eafc2"
      },
      "outputs": [
        {
          "output_type": "stream",
          "name": "stdout",
          "text": [
            "Judul Buku: passion\n"
          ]
        }
      ],
      "source": [
        "class Buku:\n",
        "    def __init__(self, judul):\n",
        "        self.judul = judul\n",
        "        self.penulis = penulis\n",
        "\n",
        "    def info(self):\n",
        "        print(f\"Judul Buku: {self.judul}\")\n",
        "        print(f\"Penulis: {self.penulis}\")\n",
        "\n",
        "def main():\n",
        "    novel = Buku(\"passion\")\n",
        "    novel.penulis = \"Shinbou Gotoh\"\n",
        "    novel.info()\n",
        "\n",
        "if __name__ == \"__main__\":\n",
        "    main()"
      ]
    }
  ]
}