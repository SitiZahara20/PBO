{
  "nbformat": 4,
  "nbformat_minor": 0,
  "metadata": {
    "colab": {
      "provenance": [],
      "authorship_tag": "ABX9TyP26IsksdFitT/+tfqCenDo",
      "include_colab_link": true
    },
    "kernelspec": {
      "name": "python3",
      "display_name": "Python 3"
    },
    "language_info": {
      "name": "python"
    }
  },
  "cells": [
    {
      "cell_type": "markdown",
      "metadata": {
        "id": "view-in-github",
        "colab_type": "text"
      },
      "source": [
        "<a href=\"https://colab.research.google.com/github/SitiZahara20/PBO/blob/main/Tanaman.ipynb\" target=\"_parent\"><img src=\"https://colab.research.google.com/assets/colab-badge.svg\" alt=\"Open In Colab\"/></a>"
      ]
    },
    {
      "cell_type": "code",
      "execution_count": 5,
      "metadata": {
        "colab": {
          "base_uri": "https://localhost:8080/"
        },
        "id": "-ZsE4vQMfuGH",
        "outputId": "e07897a4-0b27-4a7f-cf13-1c9e339f49dc"
      },
      "outputs": [
        {
          "output_type": "stream",
          "name": "stdout",
          "text": [
            "Nama Tanaman: Mawar, Jenis Tanaman: Tanaman Hias\n"
          ]
        }
      ],
      "source": [
        "class Tanaman:\n",
        "    def __init__(self, nama, jenis):\n",
        "        self.nama = nama\n",
        "        self.jenis = jenis\n",
        "\n",
        "    def info(self):\n",
        "        print(f\"Nama Tanaman: {self.nama}, Jenis Tanaman: {self.jenis}\")\n",
        "\n",
        "def main():\n",
        "    tanaman_hias = Tanaman(\"Mawar\", \"Tanaman Hias\")\n",
        "    tanaman_hias.info()\n",
        "\n",
        "if __name__ == \"__main__\":\n",
        "    main()"
      ]
    }
  ]
}