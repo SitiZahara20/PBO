{
  "nbformat": 4,
  "nbformat_minor": 0,
  "metadata": {
    "colab": {
      "provenance": [],
      "authorship_tag": "ABX9TyMJ12SpPK4JUf33zBvDvi3G",
      "include_colab_link": true
    },
    "kernelspec": {
      "name": "python3",
      "display_name": "Python 3"
    },
    "language_info": {
      "name": "python"
    }
  },
  "cells": [
    {
      "cell_type": "markdown",
      "metadata": {
        "id": "view-in-github",
        "colab_type": "text"
      },
      "source": [
        "<a href=\"https://colab.research.google.com/github/SitiZahara20/PBO/blob/main/Mobil.ipynb\" target=\"_parent\"><img src=\"https://colab.research.google.com/assets/colab-badge.svg\" alt=\"Open In Colab\"/></a>"
      ]
    },
    {
      "cell_type": "code",
      "execution_count": 16,
      "metadata": {
        "colab": {
          "base_uri": "https://localhost:8080/"
        },
        "id": "Oy26U4ftb-5Z",
        "outputId": "cd5c88ec-6839-4441-f239-57523353a977"
      },
      "outputs": [
        {
          "output_type": "stream",
          "name": "stdout",
          "text": [
            "Merek Mobil: Porche\n",
            "Warna mobil: Hitam\n"
          ]
        }
      ],
      "source": [
        "class Mobil:\n",
        "    def __init__(self, merek, warna):\n",
        "        self.merek = merek\n",
        "        self.warna = warna\n",
        "\n",
        "    def deskripsi(self):\n",
        "        print(f\"Merek Mobil: {self.merek}\")\n",
        "        print(f\"Warna mobil: {self.warna}\")\n",
        "\n",
        "def main():\n",
        "    my_mobil = Mobil(\"Porche\", \"Hitam\")\n",
        "    my_mobil.deskripsi()\n",
        "\n",
        "if __name__ == \"__main__\":\n",
        "    main()"
      ]
    }
  ]
}